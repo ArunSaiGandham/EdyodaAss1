{
 "cells": [
  {
   "cell_type": "markdown",
   "id": "17c52c03",
   "metadata": {},
   "source": [
    "# Fibonacci series from user input"
   ]
  },
  {
   "cell_type": "code",
   "execution_count": 3,
   "id": "d52e7bee",
   "metadata": {},
   "outputs": [
    {
     "name": "stdout",
     "output_type": "stream",
     "text": [
      "enter number of series 78\n",
      "Output :  0 1 1 2 3 5 8 13 21 34 55 "
     ]
    }
   ],
   "source": [
    "user_num = int(input(\"enter number of series \"))\n",
    "a , b = 0 , 1\n",
    "print(\"Output : \",a, end = \" \")\n",
    "while b < user_num:\n",
    "    print(b,end= \" \")\n",
    "    a,b = b , a+b"
   ]
  },
  {
   "cell_type": "code",
   "execution_count": null,
   "id": "c251a076",
   "metadata": {},
   "outputs": [],
   "source": []
  }
 ],
 "metadata": {
  "kernelspec": {
   "display_name": "Python 3",
   "language": "python",
   "name": "python3"
  },
  "language_info": {
   "codemirror_mode": {
    "name": "ipython",
    "version": 3
   },
   "file_extension": ".py",
   "mimetype": "text/x-python",
   "name": "python",
   "nbconvert_exporter": "python",
   "pygments_lexer": "ipython3",
   "version": "3.8.8"
  }
 },
 "nbformat": 4,
 "nbformat_minor": 5
}
